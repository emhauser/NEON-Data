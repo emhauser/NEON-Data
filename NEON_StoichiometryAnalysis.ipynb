{
 "cells": [
  {
   "cell_type": "markdown",
   "id": "4a5d4164",
   "metadata": {},
   "source": [
    "# NEON Foliar, Root, Litter Stoichiometry analysis"
   ]
  },
  {
   "cell_type": "markdown",
   "id": "338ca349",
   "metadata": {},
   "source": [
    "In this notebook, I will analyze foliar CNP data previously collected by NEON, alongside previously collected litter and root CN data and newly collected litter and root P data to look for patterns and links in plant-level stoichiometry across species and sites. "
   ]
  },
  {
   "cell_type": "markdown",
   "id": "e21b8113",
   "metadata": {},
   "source": [
    "### Datasets needed: \n",
    " - P data from lab analyses, spring 2022\n",
    " - NEON database foliar data\n",
    " - NEON database litter and root CN data\n",
    " - NEON database site variables: Soil data; climate vars like MAT, MAP; species data"
   ]
  },
  {
   "cell_type": "code",
   "execution_count": null,
   "id": "e12dfd25",
   "metadata": {},
   "outputs": [],
   "source": []
  }
 ],
 "metadata": {
  "kernelspec": {
   "display_name": "Python 3 (ipykernel)",
   "language": "python",
   "name": "python3"
  },
  "language_info": {
   "codemirror_mode": {
    "name": "ipython",
    "version": 3
   },
   "file_extension": ".py",
   "mimetype": "text/x-python",
   "name": "python",
   "nbconvert_exporter": "python",
   "pygments_lexer": "ipython3",
   "version": "3.9.7"
  }
 },
 "nbformat": 4,
 "nbformat_minor": 5
}
