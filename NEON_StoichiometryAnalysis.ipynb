{
 "cells": [
  {
   "cell_type": "markdown",
   "id": "ec617b35",
   "metadata": {},
   "source": [
    "# NEON Foliar, Root, Litter Stoichiometry analysis"
   ]
  },
  {
   "cell_type": "markdown",
   "id": "4425465b",
   "metadata": {},
   "source": [
    "In this notebook, I will analyze foliar CNP data previously collected by NEON, alongside previously collected litter and root CN data and newly collected litter and root P data to look for patterns and links in plant-level stoichiometry across species and sites. "
   ]
  },
  {
   "cell_type": "markdown",
   "id": "4e814aa2",
   "metadata": {},
   "source": [
    "### Datasets needed: \n",
    " - P data from lab analyses, spring 2022\n",
    " - NEON database foliar data\n",
    " - NEON database litter and root CN data\n",
    " - NEON database site variables: Soil data; climate vars like MAT, MAP; species data"
   ]
  },
  {
   "cell_type": "code",
   "execution_count": 11,
   "id": "1425dafb",
   "metadata": {},
   "outputs": [
    {
     "name": "stdout",
     "output_type": "stream",
     "text": [
      "\n",
      "The downloaded binary packages are in\n",
      "\t/var/folders/_g/j5dfnhqx19v1g0pvv_1nx_3c0000gn/T//RtmpDMWBg7/downloaded_packages\n"
     ]
    }
   ],
   "source": [
    "## Install packages\n",
    "import rpy2\n",
    "import rpy2.robjects as robjects\n",
    "from rpy2.robjects.packages import importr\n",
    "base = importr('base')\n",
    "utils = importr('utils')\n",
    "stats = importr('stats')\n",
    "from rpy2.rinterface_lib.callbacks import logger as rpy2_logger\n",
    "import logging\n",
    "rpy2_logger.setLevel(logging.ERROR)\n",
    "utils.install_packages('neonUtilities', repos='https://cran.rstudio.com/');\n",
    "neonUtilities = importr('neonUtilities')"
   ]
  },
  {
   "cell_type": "code",
   "execution_count": 8,
   "id": "600041d2",
   "metadata": {},
   "outputs": [
    {
     "data": {
      "text/html": [
       "\n",
       "        <span>FloatVector with 6 elements.</span>\n",
       "        <table>\n",
       "        <tbody>\n",
       "          <tr>\n",
       "          \n",
       "            <td>\n",
       "            -0.511441\n",
       "            </td>\n",
       "          \n",
       "            <td>\n",
       "            0.703367\n",
       "            </td>\n",
       "          \n",
       "            <td>\n",
       "            -0.523620\n",
       "            </td>\n",
       "          \n",
       "            <td>\n",
       "            -0.819865\n",
       "            </td>\n",
       "          \n",
       "            <td>\n",
       "            0.742963\n",
       "            </td>\n",
       "          \n",
       "            <td>\n",
       "            -0.658923\n",
       "            </td>\n",
       "          \n",
       "          </tr>\n",
       "        </tbody>\n",
       "        </table>\n",
       "        "
      ],
      "text/plain": [
       "<rpy2.robjects.vectors.FloatVector object at 0x7f9c936d2ac0> [RTYPES.REALSXP]\n",
       "R classes: ('numeric',)\n",
       "[-0.511441, 0.703367, -0.523620, -0.819865, 0.742963, -0.658923]"
      ]
     },
     "execution_count": 8,
     "metadata": {},
     "output_type": "execute_result"
    }
   ],
   "source": [
    "stats.rnorm(6,0,1)"
   ]
  },
  {
   "cell_type": "code",
   "execution_count": null,
   "id": "91d0b3ef",
   "metadata": {},
   "outputs": [],
   "source": []
  }
 ],
 "metadata": {
  "kernelspec": {
   "display_name": "Python 3 (ipykernel)",
   "language": "python",
   "name": "python3"
  },
  "language_info": {
   "codemirror_mode": {
    "name": "ipython",
    "version": 3
   },
   "file_extension": ".py",
   "mimetype": "text/x-python",
   "name": "python",
   "nbconvert_exporter": "python",
   "pygments_lexer": "ipython3",
   "version": "3.9.7"
  }
 },
 "nbformat": 4,
 "nbformat_minor": 5
}
